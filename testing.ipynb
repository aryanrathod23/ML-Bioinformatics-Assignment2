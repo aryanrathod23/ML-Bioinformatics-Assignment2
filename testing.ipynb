{
 "cells": [
  {
   "cell_type": "code",
   "execution_count": 1,
   "id": "c5350f79",
   "metadata": {},
   "outputs": [
    {
     "data": {
      "text/plain": [
       "<bound method NDFrame.head of      age     sex        dataset               cp  trestbps   chol    fbs  \\\n",
       "0     63    Male      Cleveland   typical angina     145.0  233.0   True   \n",
       "1     67    Male      Cleveland     asymptomatic     160.0  286.0  False   \n",
       "2     67    Male      Cleveland     asymptomatic     120.0  229.0  False   \n",
       "3     37    Male      Cleveland      non-anginal     130.0  250.0  False   \n",
       "4     41  Female      Cleveland  atypical angina     130.0  204.0  False   \n",
       "..   ...     ...            ...              ...       ...    ...    ...   \n",
       "915   54  Female  VA Long Beach     asymptomatic     127.0  333.0   True   \n",
       "916   62    Male  VA Long Beach   typical angina       NaN  139.0  False   \n",
       "917   55    Male  VA Long Beach     asymptomatic     122.0  223.0   True   \n",
       "918   58    Male  VA Long Beach     asymptomatic       NaN  385.0   True   \n",
       "919   62    Male  VA Long Beach  atypical angina     120.0  254.0  False   \n",
       "\n",
       "              restecg  thalch  exang  oldpeak        slope   ca  \\\n",
       "0      lv hypertrophy   150.0  False      2.3  downsloping  0.0   \n",
       "1      lv hypertrophy   108.0   True      1.5         flat  3.0   \n",
       "2      lv hypertrophy   129.0   True      2.6         flat  2.0   \n",
       "3              normal   187.0  False      3.5  downsloping  0.0   \n",
       "4      lv hypertrophy   172.0  False      1.4    upsloping  0.0   \n",
       "..                ...     ...    ...      ...          ...  ...   \n",
       "915  st-t abnormality   154.0  False      0.0          NaN  NaN   \n",
       "916  st-t abnormality     NaN    NaN      NaN          NaN  NaN   \n",
       "917  st-t abnormality   100.0  False      0.0          NaN  NaN   \n",
       "918    lv hypertrophy     NaN    NaN      NaN          NaN  NaN   \n",
       "919    lv hypertrophy    93.0   True      0.0          NaN  NaN   \n",
       "\n",
       "                  thal  num  \n",
       "0         fixed defect    0  \n",
       "1               normal    2  \n",
       "2    reversable defect    1  \n",
       "3               normal    0  \n",
       "4               normal    0  \n",
       "..                 ...  ...  \n",
       "915                NaN    1  \n",
       "916                NaN    0  \n",
       "917       fixed defect    2  \n",
       "918                NaN    0  \n",
       "919                NaN    1  \n",
       "\n",
       "[920 rows x 15 columns]>"
      ]
     },
     "execution_count": 1,
     "metadata": {},
     "output_type": "execute_result"
    }
   ],
   "source": [
    "# this is a test to see if GitHub is derping\n",
    "import pandas as pd\n",
    "df = pd.read_csv('heart_disease_uci(1).csv')\n",
    "\n",
    "df.head"
   ]
  }
 ],
 "metadata": {
  "kernelspec": {
   "display_name": "default",
   "language": "python",
   "name": "python3"
  },
  "language_info": {
   "codemirror_mode": {
    "name": "ipython",
    "version": 3
   },
   "file_extension": ".py",
   "mimetype": "text/x-python",
   "name": "python",
   "nbconvert_exporter": "python",
   "pygments_lexer": "ipython3",
   "version": "3.13.3"
  }
 },
 "nbformat": 4,
 "nbformat_minor": 5
}
